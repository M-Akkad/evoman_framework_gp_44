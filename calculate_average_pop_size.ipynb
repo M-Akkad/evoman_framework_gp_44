{
 "cells": [
  {
   "cell_type": "code",
   "id": "initial_id",
   "metadata": {
    "collapsed": true,
    "ExecuteTime": {
     "end_time": "2024-10-17T19:38:54.352272Z",
     "start_time": "2024-10-17T19:38:54.342013Z"
    }
   },
   "source": [
    "import numpy as np\n",
    "import os\n",
    "\n",
    "def load_average_population_size(num_runs=10):\n",
    "    total_populations = []\n",
    "    for run in range(1, num_runs + 1):\n",
    "        extinction_population_log = f\"extinction_event_ea_task2/enemies_group_one/extinction_event_ea_task2_run_{run}/population_size_per_generation.txt\"\n",
    "        if os.path.exists(extinction_population_log):\n",
    "            with open(extinction_population_log, 'r') as f:\n",
    "                populations = [int(line.split(':')[-1].strip()) for line in f.readlines() if 'Population Size' in line]\n",
    "            total_populations.extend(populations)\n",
    "        else:\n",
    "            raise FileNotFoundError(f\"Population size log from extinction EA for run {run} not found.\")\n",
    "    \n",
    "    # Calculate the average population size over all runs\n",
    "    average_population_size = int(np.mean(total_populations))\n",
    "    return average_population_size\n",
    "\n",
    "# Calculate and print the average population size\n",
    "average_population_size = load_average_population_size()\n",
    "print(f\"The average population size across all extinction EA runs is: {average_population_size}\")\n"
   ],
   "outputs": [
    {
     "name": "stdout",
     "output_type": "stream",
     "text": [
      "The average population size across all extinction EA runs is: 66\n"
     ]
    }
   ],
   "execution_count": 3
  },
  {
   "metadata": {
    "ExecuteTime": {
     "end_time": "2024-10-17T19:38:54.355579Z",
     "start_time": "2024-10-17T19:38:54.353278Z"
    }
   },
   "cell_type": "code",
   "source": "",
   "id": "bc06412bf439289d",
   "outputs": [],
   "execution_count": 3
  }
 ],
 "metadata": {
  "kernelspec": {
   "display_name": "Python 3",
   "language": "python",
   "name": "python3"
  },
  "language_info": {
   "codemirror_mode": {
    "name": "ipython",
    "version": 2
   },
   "file_extension": ".py",
   "mimetype": "text/x-python",
   "name": "python",
   "nbconvert_exporter": "python",
   "pygments_lexer": "ipython2",
   "version": "2.7.6"
  }
 },
 "nbformat": 4,
 "nbformat_minor": 5
}
