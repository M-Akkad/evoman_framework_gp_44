{
 "cells": [
  {
   "cell_type": "code",
   "id": "initial_id",
   "metadata": {
    "collapsed": true,
    "ExecuteTime": {
     "end_time": "2024-10-17T22:00:06.945378Z",
     "start_time": "2024-10-17T22:00:06.935273Z"
    }
   },
   "source": [
    "import numpy as np\n",
    "import os\n",
    "\n",
    "def load_average_population_size(num_runs=10):\n",
    "    total_populations = []\n",
    "    for run in range(1, num_runs + 1):\n",
    "        extinction_population_log = f\"extinction_event_ea_task2/enemies_group_one/extinction_event_ea_task2_run_{run}/population_size_per_generation.txt\"\n",
    "        if os.path.exists(extinction_population_log):\n",
    "            with open(extinction_population_log, 'r') as f:\n",
    "                populations = [int(line.split(':')[-1].strip()) for line in f.readlines() if 'Population Size' in line]\n",
    "            total_populations.extend(populations)\n",
    "        else:\n",
    "            raise FileNotFoundError(f\"Population size log from extinction EA for run {run} not found.\")\n",
    "    \n",
    "    # Calculate the average population size over all runs\n",
    "    average_population_size = int(np.mean(total_populations))\n",
    "    return average_population_size\n",
    "\n",
    "# Calculate and print the average population size\n",
    "average_population_size = load_average_population_size()\n",
    "print(f\"The average population size across all extinction EA runs is: {average_population_size}\")\n"
   ],
   "outputs": [
    {
     "name": "stdout",
     "output_type": "stream",
     "text": [
      "The average population size across all extinction EA runs is: 68\n"
     ]
    }
   ],
   "execution_count": 8
  },
  {
   "metadata": {
    "ExecuteTime": {
     "end_time": "2024-10-17T22:00:06.959488Z",
     "start_time": "2024-10-17T22:00:06.947382Z"
    }
   },
   "cell_type": "code",
   "source": [
    "import numpy as np\n",
    "import os\n",
    "\n",
    "def load_average_population_size(num_runs=10):\n",
    "    total_populations = []\n",
    "    for run in range(1, num_runs + 1):\n",
    "        extinction_population_log = f\"extinction_event_ea_task2/enemies_group_two/extinction_event_ea_task2_run_{run}/population_size_per_generation.txt\"\n",
    "        if os.path.exists(extinction_population_log):\n",
    "            with open(extinction_population_log, 'r') as f:\n",
    "                populations = [int(line.split(':')[-1].strip()) for line in f.readlines() if 'Population Size' in line]\n",
    "            total_populations.extend(populations)\n",
    "        else:\n",
    "            raise FileNotFoundError(f\"Population size log from extinction EA for run {run} not found.\")\n",
    "    \n",
    "    average_population_size = int(np.mean(total_populations))\n",
    "    return average_population_size\n",
    "\n",
    "average_population_size = load_average_population_size()\n",
    "print(f\"The average population size across all extinction EA runs is: {average_population_size}\")\n"
   ],
   "id": "bc06412bf439289d",
   "outputs": [
    {
     "name": "stdout",
     "output_type": "stream",
     "text": [
      "The average population size across all extinction EA runs is: 66\n"
     ]
    }
   ],
   "execution_count": 9
  },
  {
   "metadata": {
    "ExecuteTime": {
     "end_time": "2024-10-17T22:00:06.963977Z",
     "start_time": "2024-10-17T22:00:06.960510Z"
    }
   },
   "cell_type": "code",
   "source": "",
   "id": "a2e60282b6c5948",
   "outputs": [],
   "execution_count": 9
  }
 ],
 "metadata": {
  "kernelspec": {
   "display_name": "Python 3",
   "language": "python",
   "name": "python3"
  },
  "language_info": {
   "codemirror_mode": {
    "name": "ipython",
    "version": 2
   },
   "file_extension": ".py",
   "mimetype": "text/x-python",
   "name": "python",
   "nbconvert_exporter": "python",
   "pygments_lexer": "ipython2",
   "version": "2.7.6"
  }
 },
 "nbformat": 4,
 "nbformat_minor": 5
}
